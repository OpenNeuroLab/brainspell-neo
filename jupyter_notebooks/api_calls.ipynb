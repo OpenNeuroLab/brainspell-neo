{
 "cells": [
  {
   "cell_type": "code",
   "execution_count": null,
   "metadata": {
    "collapsed": true
   },
   "outputs": [],
   "source": [
    "import sys\n",
    "sys.path.insert(0, '../brainspell')\n",
    "\n",
    "from json_api import *\n",
    "from github_collections import *\n",
    "from websockets import api_call"
   ]
  },
  {
   "cell_type": "code",
   "execution_count": null,
   "metadata": {},
   "outputs": [],
   "source": [
    "api_call(RandomQueryEndpointHandler)"
   ]
  },
  {
   "cell_type": "code",
   "execution_count": null,
   "metadata": {},
   "outputs": [],
   "source": [
    "api_call(QueryEndpointHandler, {\n",
    "    \"q\": \"brain\"\n",
    "})"
   ]
  },
  {
   "cell_type": "code",
   "execution_count": null,
   "metadata": {},
   "outputs": [],
   "source": [
    "response = api_call(ArticleEndpointHandler, {\n",
    "    \"pmid\": 21382353\n",
    "})\n",
    "response"
   ]
  },
  {
   "cell_type": "code",
   "execution_count": null,
   "metadata": {},
   "outputs": [],
   "source": [
    "start = 0\n",
    "all_articles = []\n",
    "\n",
    "while True:\n",
    "    # get all of the results returned by the query, in groups of 10\n",
    "    response = api_call(QueryEndpointHandler, {\n",
    "        \"q\": \"vision\",\n",
    "        \"start\": start\n",
    "    })\n",
    "    # break out of the loop when there are no more results\n",
    "    if response[\"start_index\"] != -1:\n",
    "        all_articles.extend(response[\"articles\"])\n",
    "        start += 10\n",
    "    else:\n",
    "        break\n",
    "\n",
    "all_articles"
   ]
  }
 ],
 "metadata": {
  "kernelspec": {
   "display_name": "Python 3",
   "language": "python",
   "name": "python3"
  },
  "language_info": {
   "codemirror_mode": {
    "name": "ipython",
    "version": 3
   },
   "file_extension": ".py",
   "mimetype": "text/x-python",
   "name": "python",
   "nbconvert_exporter": "python",
   "pygments_lexer": "ipython3",
   "version": "3.6.1"
  }
 },
 "nbformat": 4,
 "nbformat_minor": 2
}
