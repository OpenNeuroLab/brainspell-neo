{
 "cells": [
  {
   "cell_type": "code",
   "execution_count": 28,
   "metadata": {},
   "outputs": [],
   "source": [
    "import numpy as np\n",
    "from scipy import linalg as lin\n",
    "import nibabel as nib\n",
    "import statsmodels\n",
    "import scipy.stats as sst"
   ]
  },
  {
   "cell_type": "code",
   "execution_count": 3,
   "metadata": {},
   "outputs": [
    {
     "data": {
      "text/plain": [
       "'/home/jb/code/pasteur/brainspell-neo/mni-template'"
      ]
     },
     "execution_count": 3,
     "metadata": {},
     "output_type": "execute_result"
    }
   ],
   "source": [
    "pwd"
   ]
  },
  {
   "cell_type": "code",
   "execution_count": 4,
   "metadata": {},
   "outputs": [
    {
     "name": "stderr",
     "output_type": "stream",
     "text": [
      "/home/jb/virtualenvs/brainspell/lib/python3.5/site-packages/ipykernel_launcher.py:3: DeprecationWarning: get_header method is deprecated.\n",
      "Please use the ``img.header`` property instead.\n",
      "\n",
      "* deprecated from version: 2.1\n",
      "* Will raise <class 'nibabel.deprecator.ExpiredDeprecationError'> as of version: 4.0\n",
      "  This is separate from the ipykernel package so we can avoid doing imports until\n"
     ]
    }
   ],
   "source": [
    "mask_file = \"MNI152_T1_3mm_brain_mask_scipy.nii\"\n",
    "mask_img = nib.load(mask_file)\n",
    "header = mask_img.get_header()"
   ]
  },
  {
   "cell_type": "code",
   "execution_count": 5,
   "metadata": {},
   "outputs": [
    {
     "name": "stdout",
     "output_type": "stream",
     "text": [
      "<class 'nibabel.nifti1.Nifti1Header'> object, endian='<'\n",
      "sizeof_hdr      : 348\n",
      "data_type       : b''\n",
      "db_name         : b''\n",
      "extents         : 0\n",
      "session_error   : 0\n",
      "regular         : b'r'\n",
      "dim_info        : 0\n",
      "dim             : [ 3 53 63 46  1  1  1  1]\n",
      "intent_p1       : 0.0\n",
      "intent_p2       : 0.0\n",
      "intent_p3       : 0.0\n",
      "intent_code     : label\n",
      "datatype        : uint8\n",
      "bitpix          : 8\n",
      "slice_start     : 0\n",
      "pixdim          : [-1.  3.  3.  3.  1.  0.  0.  0.]\n",
      "vox_offset      : 0.0\n",
      "scl_slope       : nan\n",
      "scl_inter       : nan\n",
      "slice_end       : 0\n",
      "slice_code      : unknown\n",
      "xyzt_units      : 10\n",
      "cal_max         : 1.0\n",
      "cal_min         : 0.0\n",
      "slice_duration  : 0.0\n",
      "toffset         : 0.0\n",
      "glmax           : 0\n",
      "glmin           : 0\n",
      "descrip         : b'spm - 3D normalized'\n",
      "aux_file        : b''\n",
      "qform_code      : aligned\n",
      "sform_code      : aligned\n",
      "quatern_b       : 0.0\n",
      "quatern_c       : 1.0\n",
      "quatern_d       : 0.0\n",
      "qoffset_x       : 78.0\n",
      "qoffset_y       : -112.0\n",
      "qoffset_z       : -50.0\n",
      "srow_x          : [ -3.   0.   0.  78.]\n",
      "srow_y          : [   0.    3.    0. -112.]\n",
      "srow_z          : [  0.   0.   3. -50.]\n",
      "intent_name     : b'Intra Mask'\n",
      "magic           : b'n+1'\n"
     ]
    }
   ],
   "source": [
    "print(header)"
   ]
  },
  {
   "cell_type": "markdown",
   "metadata": {},
   "source": [
    "### dimension of the image"
   ]
  },
  {
   "cell_type": "code",
   "execution_count": 6,
   "metadata": {},
   "outputs": [
    {
     "data": {
      "text/plain": [
       "(53, 63, 46)"
      ]
     },
     "execution_count": 6,
     "metadata": {},
     "output_type": "execute_result"
    }
   ],
   "source": [
    "mask_img.shape"
   ]
  },
  {
   "cell_type": "code",
   "execution_count": 7,
   "metadata": {},
   "outputs": [
    {
     "name": "stdout",
     "output_type": "stream",
     "text": [
      "[[0]\n",
      " [0]\n",
      " [0]\n",
      " [1]]\n"
     ]
    }
   ],
   "source": [
    "voxel_coo = np.asarray([0,0,0,1])\n",
    "voxel_coo = voxel_coo[np.newaxis,:].T\n",
    "print(voxel_coo)"
   ]
  },
  {
   "cell_type": "markdown",
   "metadata": {},
   "source": [
    "### Coordinates of the (0,0,0)"
   ]
  },
  {
   "cell_type": "code",
   "execution_count": 8,
   "metadata": {},
   "outputs": [
    {
     "name": "stdout",
     "output_type": "stream",
     "text": [
      "[[  78.]\n",
      " [-112.]\n",
      " [ -50.]\n",
      " [   1.]]\n",
      "[[  -3.    0.    0.   78.]\n",
      " [   0.    3.    0. -112.]\n",
      " [   0.    0.    3.  -50.]\n",
      " [   0.    0.    0.    1.]]\n"
     ]
    },
    {
     "name": "stderr",
     "output_type": "stream",
     "text": [
      "/home/jb/virtualenvs/brainspell/lib/python3.5/site-packages/ipykernel_launcher.py:1: DeprecationWarning: get_affine method is deprecated.\n",
      "Please use the ``img.affine`` property instead.\n",
      "\n",
      "* deprecated from version: 2.1\n",
      "* Will raise <class 'nibabel.deprecator.ExpiredDeprecationError'> as of version: 4.0\n",
      "  \"\"\"Entry point for launching an IPython kernel.\n"
     ]
    }
   ],
   "source": [
    "A = mask_img.get_affine()\n",
    "talairach_coo = np.dot(A, voxel_coo)\n",
    "print(talairach_coo)\n",
    "print(A)"
   ]
  },
  {
   "cell_type": "markdown",
   "metadata": {},
   "source": [
    "### Voxel associated with these coordinates"
   ]
  },
  {
   "cell_type": "code",
   "execution_count": 9,
   "metadata": {},
   "outputs": [
    {
     "name": "stdout",
     "output_type": "stream",
     "text": [
      "[[ 29.33333333]\n",
      " [ 44.        ]\n",
      " [ 30.        ]\n",
      " [  1.        ]]\n",
      "[[ 29.]\n",
      " [ 44.]\n",
      " [ 30.]\n",
      " [  1.]]\n"
     ]
    }
   ],
   "source": [
    "talairach_coo = np.asarray([[-10, 20, 40, 1]]).T\n",
    "invA = lin.inv(A)\n",
    "#new_vox_coo = np.rint(invA.dot(talairach_coo))\n",
    "new_vox_coo = (invA.dot(talairach_coo))\n",
    "print(new_vox_coo)\n",
    "print(np.rint(new_vox_coo))"
   ]
  },
  {
   "cell_type": "code",
   "execution_count": 10,
   "metadata": {},
   "outputs": [
    {
     "data": {
      "text/plain": [
       "614376"
      ]
     },
     "execution_count": 10,
     "metadata": {},
     "output_type": "execute_result"
    }
   ],
   "source": [
    "np.asarray(mask_img.shape).prod()*4"
   ]
  },
  {
   "cell_type": "markdown",
   "metadata": {},
   "source": [
    "### insert_at_location(self, value, x, y, z, width=1)"
   ]
  },
  {
   "cell_type": "code",
   "execution_count": 11,
   "metadata": {},
   "outputs": [],
   "source": [
    "def construct_ball(dim=3, radius=1):\n",
    "    \"\"\"\n",
    "    Create a ball in 3 dimension with radius 'radius' \n",
    "    Diameter will be 2*radius + 1\n",
    "    \n",
    "    parameters\n",
    "    ----------\n",
    "    dim: int\n",
    "        dimension of the space - only 3 is implemented\n",
    "    radius: int\n",
    "        radius of the sphere\n",
    "    \"\"\"\n",
    "    try:\n",
    "        assert(dim==3)\n",
    "    except:\n",
    "        raise NotImplementedError\n",
    "    \n",
    "    # make a cube\n",
    "    assert radius >= 1, print('radius >= 1')\n",
    "    radius = np.rint(radius)\n",
    "    cube_length = int(radius*2 + 1)\n",
    "    ball = np.zeros((cube_length, cube_length, cube_length))\n",
    "\n",
    "    # coord contains the range of coordinates\n",
    "    coord = np.arange(cube_length)\n",
    "    mesh = np.meshgrid(coord, coord, coord)\n",
    "    \n",
    "    # center the mesh coordinates\n",
    "    mesh = tuple([mesh[i]-radius for i in range(dim)])\n",
    "    \n",
    "    # keep those less or equal to radius\n",
    "    ball_coord = np.sqrt(mesh[0]**2 + mesh[1]**2 + mesh[2]**2) <= radius\n",
    "    ball[np.where(ball_coord)] = 1\n",
    "    \n",
    "    return ball\n",
    "    "
   ]
  },
  {
   "cell_type": "code",
   "execution_count": 12,
   "metadata": {},
   "outputs": [
    {
     "name": "stdout",
     "output_type": "stream",
     "text": [
      "[[[ 0.  0.  0.  0.  0.]\n",
      "  [ 0.  0.  0.  0.  0.]\n",
      "  [ 0.  0.  1.  0.  0.]\n",
      "  [ 0.  0.  0.  0.  0.]\n",
      "  [ 0.  0.  0.  0.  0.]]\n",
      "\n",
      " [[ 0.  0.  0.  0.  0.]\n",
      "  [ 0.  1.  1.  1.  0.]\n",
      "  [ 0.  1.  1.  1.  0.]\n",
      "  [ 0.  1.  1.  1.  0.]\n",
      "  [ 0.  0.  0.  0.  0.]]\n",
      "\n",
      " [[ 0.  0.  1.  0.  0.]\n",
      "  [ 0.  1.  1.  1.  0.]\n",
      "  [ 1.  1.  1.  1.  1.]\n",
      "  [ 0.  1.  1.  1.  0.]\n",
      "  [ 0.  0.  1.  0.  0.]]\n",
      "\n",
      " [[ 0.  0.  0.  0.  0.]\n",
      "  [ 0.  1.  1.  1.  0.]\n",
      "  [ 0.  1.  1.  1.  0.]\n",
      "  [ 0.  1.  1.  1.  0.]\n",
      "  [ 0.  0.  0.  0.  0.]]\n",
      "\n",
      " [[ 0.  0.  0.  0.  0.]\n",
      "  [ 0.  0.  0.  0.  0.]\n",
      "  [ 0.  0.  1.  0.  0.]\n",
      "  [ 0.  0.  0.  0.  0.]\n",
      "  [ 0.  0.  0.  0.  0.]]]\n"
     ]
    }
   ],
   "source": [
    "ball2 = construct_ball(radius=2)\n",
    "print(ball2)"
   ]
  },
  {
   "cell_type": "code",
   "execution_count": 13,
   "metadata": {
    "collapsed": true
   },
   "outputs": [],
   "source": [
    "import scipy.ndimage.morphology as morph"
   ]
  },
  {
   "cell_type": "code",
   "execution_count": 14,
   "metadata": {},
   "outputs": [
    {
     "data": {
      "text/plain": [
       "array([[[False, False, False, False, False],\n",
       "        [False, False, False, False, False],\n",
       "        [False, False, False, False, False],\n",
       "        [False, False, False, False, False],\n",
       "        [False, False, False, False, False]],\n",
       "\n",
       "       [[False, False, False, False, False],\n",
       "        [False, False, False, False, False],\n",
       "        [False, False,  True, False, False],\n",
       "        [False, False, False, False, False],\n",
       "        [False, False, False, False, False]],\n",
       "\n",
       "       [[False, False, False, False, False],\n",
       "        [False, False,  True, False, False],\n",
       "        [False,  True,  True,  True, False],\n",
       "        [False, False,  True, False, False],\n",
       "        [False, False, False, False, False]],\n",
       "\n",
       "       [[False, False, False, False, False],\n",
       "        [False, False, False, False, False],\n",
       "        [False, False,  True, False, False],\n",
       "        [False, False, False, False, False],\n",
       "        [False, False, False, False, False]],\n",
       "\n",
       "       [[False, False, False, False, False],\n",
       "        [False, False, False, False, False],\n",
       "        [False, False, False, False, False],\n",
       "        [False, False, False, False, False],\n",
       "        [False, False, False, False, False]]], dtype=bool)"
      ]
     },
     "execution_count": 14,
     "metadata": {},
     "output_type": "execute_result"
    }
   ],
   "source": [
    "brain = np.zeros(mask_img.shape, dtype='int32')\n",
    "\n",
    "voxel_coo = np.asarray([2,2,2,1])\n",
    "voxel_coo = voxel_coo[np.newaxis,:].T\n",
    "talairach_coo = np.dot(A, voxel_coo)\n",
    "new_vox_coo = np.rint(invA.dot(talairach_coo)).astype('int32')\n",
    "assert(np.array_equal(new_vox_coo, voxel_coo))\n",
    "\n",
    "\n",
    "brain[tuple(new_vox_coo[:3])] = 2\n",
    "ball1 = construct_ball(radius=1)\n",
    "brain = morph.binary_dilation(brain, structure=ball1)\n",
    "\n",
    "brain[0:5,0:5,0:5]"
   ]
  },
  {
   "cell_type": "code",
   "execution_count": 15,
   "metadata": {
    "collapsed": true
   },
   "outputs": [],
   "source": [
    "def insert_at_location(brain_img, value, x, y, z, width=1):\n",
    "    \"\"\"\n",
    "    Take a brain nifti image, add value around x,y,z coordinates\n",
    "    \n",
    "    \"\"\"\n",
    "    \n",
    "    \n",
    "    cube_length = width*2 + 1\n",
    "    center = np.asarray([width, width, width])\n",
    "    xdim = ydim = zdim = arange(cube_lenght)\n",
    "    "
   ]
  },
  {
   "cell_type": "code",
   "execution_count": 16,
   "metadata": {},
   "outputs": [
    {
     "data": {
      "text/plain": [
       "array([[2, 2, 2, 1]])"
      ]
     },
     "execution_count": 16,
     "metadata": {},
     "output_type": "execute_result"
    }
   ],
   "source": [
    "voxel_coo = np.asarray([2,2,2,1])\n",
    "voxel_coo.shape = (1,4)\n",
    "voxel_coo"
   ]
  },
  {
   "cell_type": "markdown",
   "metadata": {},
   "source": [
    "### playing with masks"
   ]
  },
  {
   "cell_type": "code",
   "execution_count": 66,
   "metadata": {},
   "outputs": [
    {
     "name": "stderr",
     "output_type": "stream",
     "text": [
      "/home/jb/virtualenvs/brainspell/lib/python3.5/site-packages/scipy/stats/_distn_infrastructure.py:879: RuntimeWarning: invalid value encountered in greater\n",
      "  return (self.a < x) & (x < self.b)\n",
      "/home/jb/virtualenvs/brainspell/lib/python3.5/site-packages/scipy/stats/_distn_infrastructure.py:879: RuntimeWarning: invalid value encountered in less\n",
      "  return (self.a < x) & (x < self.b)\n",
      "/home/jb/virtualenvs/brainspell/lib/python3.5/site-packages/scipy/stats/_distn_infrastructure.py:1818: RuntimeWarning: invalid value encountered in less_equal\n",
      "  cond2 = cond0 & (x <= self.a)\n"
     ]
    },
    {
     "data": {
      "text/plain": [
       "array([       nan,  0.5      ,  0.0013499,  0.9986501])"
      ]
     },
     "execution_count": 66,
     "metadata": {},
     "output_type": "execute_result"
    }
   ],
   "source": [
    "import scipy.stats as st\n",
    "st.norm.sf([np.nan, 0, 3, -3])"
   ]
  },
  {
   "cell_type": "code",
   "execution_count": 75,
   "metadata": {},
   "outputs": [
    {
     "name": "stdout",
     "output_type": "stream",
     "text": [
      "(array([0, 0, 0, 1, 1, 1]), array([0, 3, 4, 0, 3, 4]))\n",
      "[[ nan   1.   2.  nan  nan]\n",
      " [ nan   1.   2.  nan  nan]]\n",
      "[[False False False False False]\n",
      " [False False False False False]]\n",
      "(array([0, 0, 1, 1]), array([1, 2, 1, 2]))\n",
      "[[ nan  1.5  2.5  nan  nan]\n",
      " [ nan  1.5  2.5  nan  nan]]\n"
     ]
    }
   ],
   "source": [
    "a = np.asarray([[0, 1, 2., 0, 0],[0, 1, 2., 0, 0]])\n",
    "c = np.where(a != 0)\n",
    "d = np.where(a==0)\n",
    "print(d)\n",
    "a[d] = np.nan\n",
    "print(a)\n",
    "print(a == np.nan)\n",
    "print(c)\n",
    "a[c] = a[c]+.5\n",
    "print(a)"
   ]
  },
  {
   "cell_type": "code",
   "execution_count": 70,
   "metadata": {},
   "outputs": [
    {
     "name": "stdout",
     "output_type": "stream",
     "text": [
      "[[ True False False  True  True]\n",
      " [ True False False  True  True]]\n"
     ]
    }
   ],
   "source": [
    "isnan_a = np.isnan(a)\n",
    "print(isnan_a)"
   ]
  },
  {
   "cell_type": "code",
   "execution_count": 71,
   "metadata": {},
   "outputs": [
    {
     "data": {
      "text/plain": [
       "array([ 1.5,  2.5,  1.5,  2.5])"
      ]
     },
     "execution_count": 71,
     "metadata": {},
     "output_type": "execute_result"
    }
   ],
   "source": [
    "c = a[~np.isnan(a)]\n",
    "c"
   ]
  },
  {
   "cell_type": "code",
   "execution_count": 74,
   "metadata": {},
   "outputs": [
    {
     "data": {
      "text/plain": [
       "(array([0, 0, 1, 1]), array([1, 2, 1, 2]))"
      ]
     },
     "execution_count": 74,
     "metadata": {},
     "output_type": "execute_result"
    }
   ],
   "source": [
    "np.where(~isnan_a)"
   ]
  },
  {
   "cell_type": "markdown",
   "metadata": {
    "collapsed": true
   },
   "source": [
    "## FDR "
   ]
  },
  {
   "cell_type": "code",
   "execution_count": 27,
   "metadata": {},
   "outputs": [],
   "source": [
    "from statsmodels.sandbox.stats import multicomp as mc\n"
   ]
  },
  {
   "cell_type": "code",
   "execution_count": 61,
   "metadata": {},
   "outputs": [],
   "source": [
    "pvals = np.random.uniform(size=(5,))\n",
    "pvals = np.hstack((np.random.uniform(size=(5,)), [1e-3]))"
   ]
  },
  {
   "cell_type": "code",
   "execution_count": 62,
   "metadata": {},
   "outputs": [
    {
     "data": {
      "text/plain": [
       "array([ 0.1501466 ,  0.50208552,  0.40086331,  0.55012374,  0.43197296,\n",
       "        0.001     ])"
      ]
     },
     "execution_count": 62,
     "metadata": {},
     "output_type": "execute_result"
    }
   ],
   "source": [
    "pvals"
   ]
  },
  {
   "cell_type": "code",
   "execution_count": 63,
   "metadata": {},
   "outputs": [],
   "source": [
    "reject, _corrected, _, _ = mc.multipletests(pvals, method='fdr_bh')"
   ]
  },
  {
   "cell_type": "code",
   "execution_count": 64,
   "metadata": {},
   "outputs": [
    {
     "name": "stdout",
     "output_type": "stream",
     "text": [
      "True\n"
     ]
    }
   ],
   "source": [
    "if pvals[reject]:\n",
    "    print(True)\n",
    "else:\n",
    "    print(False)"
   ]
  },
  {
   "cell_type": "code",
   "execution_count": 65,
   "metadata": {},
   "outputs": [
    {
     "data": {
      "text/plain": [
       "array([False, False, False, False, False,  True], dtype=bool)"
      ]
     },
     "execution_count": 65,
     "metadata": {},
     "output_type": "execute_result"
    }
   ],
   "source": [
    "reject"
   ]
  },
  {
   "cell_type": "code",
   "execution_count": null,
   "metadata": {
    "collapsed": true
   },
   "outputs": [],
   "source": []
  },
  {
   "cell_type": "code",
   "execution_count": 78,
   "metadata": {
    "collapsed": true
   },
   "outputs": [],
   "source": [
    "a = np.asarray([[0, 1, 0., 2, 0],[0, 1, 2., 0, 0]])\n",
    "c = np.where(a != 0)\n",
    "d = np.where(a==0)\n"
   ]
  },
  {
   "cell_type": "code",
   "execution_count": 79,
   "metadata": {},
   "outputs": [
    {
     "data": {
      "text/plain": [
       "array([[ 0.,  1.,  0.,  2.,  0.],\n",
       "       [ 0.,  1.,  2.,  0.,  0.]])"
      ]
     },
     "execution_count": 79,
     "metadata": {},
     "output_type": "execute_result"
    }
   ],
   "source": [
    "a"
   ]
  },
  {
   "cell_type": "code",
   "execution_count": 80,
   "metadata": {},
   "outputs": [
    {
     "data": {
      "text/plain": [
       "(array([0, 0, 0, 1, 1, 1]), array([0, 2, 4, 0, 3, 4]))"
      ]
     },
     "execution_count": 80,
     "metadata": {},
     "output_type": "execute_result"
    }
   ],
   "source": [
    "d"
   ]
  },
  {
   "cell_type": "code",
   "execution_count": 90,
   "metadata": {},
   "outputs": [],
   "source": [
    "z = zip(d[0],d[1],d[0])\n",
    "z = zip(*d)"
   ]
  },
  {
   "cell_type": "code",
   "execution_count": 91,
   "metadata": {},
   "outputs": [
    {
     "data": {
      "text/plain": [
       "[(0, 0), (0, 2), (0, 4), (1, 0), (1, 3), (1, 4)]"
      ]
     },
     "execution_count": 91,
     "metadata": {},
     "output_type": "execute_result"
    }
   ],
   "source": [
    "list(z)"
   ]
  },
  {
   "cell_type": "code",
   "execution_count": 88,
   "metadata": {},
   "outputs": [
    {
     "data": {
      "text/plain": [
       "'zip(iter1 [,iter2 [...]]) --> zip object\\n\\nReturn a zip object whose .__next__() method returns a tuple where\\nthe i-th element comes from the i-th iterable argument.  The .__next__()\\nmethod continues until the shortest iterable in the argument sequence\\nis exhausted and then it raises StopIteration.'"
      ]
     },
     "execution_count": 88,
     "metadata": {},
     "output_type": "execute_result"
    }
   ],
   "source": [
    "z.__doc__\n"
   ]
  },
  {
   "cell_type": "code",
   "execution_count": null,
   "metadata": {
    "collapsed": true
   },
   "outputs": [],
   "source": []
  }
 ],
 "metadata": {
  "kernelspec": {
   "display_name": "Python 3",
   "language": "python",
   "name": "python3"
  },
  "language_info": {
   "codemirror_mode": {
    "name": "ipython",
    "version": 3
   },
   "file_extension": ".py",
   "mimetype": "text/x-python",
   "name": "python",
   "nbconvert_exporter": "python",
   "pygments_lexer": "ipython3",
   "version": "3.5.2"
  }
 },
 "nbformat": 4,
 "nbformat_minor": 1
}
